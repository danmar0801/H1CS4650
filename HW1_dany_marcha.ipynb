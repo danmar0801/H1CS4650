{
 "cells": [
  {
   "cell_type": "code",
   "execution_count": 1,
   "metadata": {},
   "outputs": [
    {
     "name": "stdout",
     "output_type": "stream",
     "text": [
      "Writing max_temperature.py\n"
     ]
    }
   ],
   "source": [
    "%%file max_temperature.py\n",
    "import re\n",
    "import json\n",
    "\n",
    "from mrjob.job import MRJob\n",
    "\n",
    "QUALITY_RE = re.compile(r\"[01459]\")\n",
    "\n",
    "class MaxTemperature(MRJob):\n",
    "\n",
    "    def mapper(self, _, line):\n",
    "        val = line.strip()\n",
    "        (year, temp, q) = (val[15:19], val[87:92], val[92:93])\n",
    "        if (temp != \"+9999\" and re.match(QUALITY_RE, q)):\n",
    "            yield year, int(temp)\n",
    "\n",
    "    def reducer(self, key, values):\n",
    "        yield key, max(values)\n",
    "\n",
    "if __name__ == '__main__':\n",
    "    MaxTemperature.run()"
   ]
  },
  {
   "cell_type": "code",
   "execution_count": 2,
   "metadata": {},
   "outputs": [
    {
     "name": "stdout",
     "output_type": "stream",
     "text": [
      "\"1901\"\t317\n",
      "\"1902\"\t244\n"
     ]
    },
    {
     "name": "stderr",
     "output_type": "stream",
     "text": [
      "No configs found; falling back on auto-configuration\n",
      "No configs specified for inline runner\n",
      "Creating temp directory C:\\Users\\User1\\AppData\\Local\\Temp\\max_temperature.User1.20240225.165244.234236\n",
      "Running step 1 of 1...\n",
      "job output is in C:\\Users\\User1\\AppData\\Local\\Temp\\max_temperature.User1.20240225.165244.234236\\output\n",
      "Streaming final output from C:\\Users\\User1\\AppData\\Local\\Temp\\max_temperature.User1.20240225.165244.234236\\output...\n",
      "Removing temp directory C:\\Users\\User1\\AppData\\Local\\Temp\\max_temperature.User1.20240225.165244.234236...\n"
     ]
    }
   ],
   "source": [
    "!python max_temperature.py --no-bootstrap-mrjob 1901 1902"
   ]
  },
  {
   "cell_type": "code",
   "execution_count": 3,
   "metadata": {},
   "outputs": [
    {
     "name": "stdout",
     "output_type": "stream",
     "text": [
      "Writing max_monthly_temperature.py\n"
     ]
    }
   ],
   "source": [
    "%%file max_monthly_temperature.py\n",
    "import re\n",
    "import json\n",
    "\n",
    "from mrjob.job import MRJob\n",
    "\n",
    "QUALITY_RE = re.compile(r\"[01459]\")\n",
    "\n",
    "monthName = [\"Jan-\", \"Feb-\", \"Mar-\", \"Apr-\", \"May-\", \"Jun-\",\n",
    "            \"Jul-\", \"Aug-\", \"Sep-\", \"Oct-\", \"Nov-\", \"Dec-\"];\n",
    "\n",
    "class MaxMonthlyTemperature(MRJob):\n",
    "    \n",
    "    def mapper(self, _, line):\n",
    "        val = line.strip()\n",
    "        (year, month, temp, q) = (val[15:19], val[20:21], val[87:92], val[92:93])\n",
    "        if (temp != \"+9999\" and re.match(QUALITY_RE, q)):\n",
    "            yield monthName[int(month) - 1] + str(year), int(temp)\n",
    "\n",
    "    def reducer(self, key, values):\n",
    "        yield key, max(values)\n",
    "\n",
    "if __name__ == '__main__':\n",
    "    MaxMonthlyTemperature.run()"
   ]
  },
  {
   "cell_type": "code",
   "execution_count": 4,
   "metadata": {},
   "outputs": [
    {
     "name": "stdout",
     "output_type": "stream",
     "text": [
      "\"Apr-1901\"\t194\n",
      "\"Apr-1902\"\t83\n",
      "\"Aug-1901\"\t283\n",
      "\"Aug-1902\"\t206\n",
      "\"Dec-1901\"\t156\n",
      "\"Dec-1902\"\t106\n",
      "\"Feb-1901\"\t117\n",
      "\"Feb-1902\"\t117\n",
      "\"Jan-1901\"\t89\n",
      "\"Jan-1902\"\t94\n",
      "\"Jul-1901\"\t317\n",
      "\"Jul-1902\"\t244\n",
      "\"Jun-1901\"\t278\n",
      "\"Jun-1902\"\t239\n",
      "\"Mar-1901\"\t50\n",
      "\"Mar-1902\"\t44\n",
      "\"May-1901\"\t256\n",
      "\"May-1902\"\t211\n",
      "\"Sep-1901\"\t211\n",
      "\"Sep-1902\"\t183\n"
     ]
    },
    {
     "name": "stderr",
     "output_type": "stream",
     "text": [
      "No configs found; falling back on auto-configuration\n",
      "No configs specified for inline runner\n",
      "Creating temp directory C:\\Users\\User1\\AppData\\Local\\Temp\\max_monthly_temperature.User1.20240225.165300.256415\n",
      "Running step 1 of 1...\n",
      "job output is in C:\\Users\\User1\\AppData\\Local\\Temp\\max_monthly_temperature.User1.20240225.165300.256415\\output\n",
      "Streaming final output from C:\\Users\\User1\\AppData\\Local\\Temp\\max_monthly_temperature.User1.20240225.165300.256415\\output...\n",
      "Removing temp directory C:\\Users\\User1\\AppData\\Local\\Temp\\max_monthly_temperature.User1.20240225.165300.256415...\n"
     ]
    }
   ],
   "source": [
    "!python max_monthly_temperature.py 1901 1902"
   ]
  },
  {
   "cell_type": "code",
   "execution_count": 5,
   "metadata": {},
   "outputs": [
    {
     "name": "stdout",
     "output_type": "stream",
     "text": [
      "Writing wind_temp_analysis.py\n"
     ]
    }
   ],
   "source": [
    "%%file wind_temp_analysis.py\n",
    "import re\n",
    "from mrjob.job import MRJob\n",
    "\n",
    "QUALITY_RE = re.compile(r\"[01459]\")\n",
    "\n",
    "class WindTempAnalysis(MRJob):\n",
    "\n",
    "    def mapper(self, _, line):\n",
    "        val = line.strip()\n",
    "        wind_direction = val[60:63]\n",
    "        temp = val[87:92]\n",
    "        quality = val[92:93]\n",
    "        wind_quality = val[63:64]\n",
    "\n",
    "        if wind_direction != '999' and temp != \"+9999\" and re.match(QUALITY_RE, quality) and re.match(QUALITY_RE, wind_quality):\n",
    "            yield wind_direction, int(temp)\n",
    "\n",
    "    def reducer(self, key, values):\n",
    "        temperatures = list(values)\n",
    "        min_temp = min(temperatures)\n",
    "        max_temp = max(temperatures)\n",
    "        count = len(temperatures)\n",
    "        yield key, {\"low\": min_temp, \"high\": max_temp, \"count\": count}\n",
    "\n",
    "if __name__ == '__main__':\n",
    "    WindTempAnalysis.run()"
   ]
  },
  {
   "cell_type": "code",
   "execution_count": 7,
   "metadata": {},
   "outputs": [
    {
     "name": "stdout",
     "output_type": "stream",
     "text": [
      "\"020\"\t{\"low\":-272,\"high\":317,\"count\":582}\n",
      "\"050\"\t{\"low\":-322,\"high\":306,\"count\":1039}\n",
      "\"070\"\t{\"low\":-333,\"high\":278,\"count\":502}\n",
      "\"090\"\t{\"low\":-267,\"high\":272,\"count\":567}\n",
      "\"110\"\t{\"low\":-239,\"high\":278,\"count\":296}\n",
      "\"140\"\t{\"low\":-328,\"high\":278,\"count\":1005}\n",
      "\"160\"\t{\"low\":-239,\"high\":289,\"count\":647}\n",
      "\"180\"\t{\"low\":-250,\"high\":294,\"count\":879}\n",
      "\"200\"\t{\"low\":-183,\"high\":300,\"count\":688}\n",
      "\"230\"\t{\"low\":-228,\"high\":283,\"count\":1488}\n",
      "\"250\"\t{\"low\":-222,\"high\":311,\"count\":604}\n",
      "\"270\"\t{\"low\":-211,\"high\":278,\"count\":931}\n",
      "\"290\"\t{\"low\":-328,\"high\":306,\"count\":379}\n",
      "\"320\"\t{\"low\":-311,\"high\":306,\"count\":1152}\n",
      "\"340\"\t{\"low\":-300,\"high\":311,\"count\":427}\n",
      "\"360\"\t{\"low\":-267,\"high\":289,\"count\":888}\n"
     ]
    },
    {
     "name": "stderr",
     "output_type": "stream",
     "text": [
      "No configs found; falling back on auto-configuration\n",
      "No configs specified for inline runner\n",
      "Creating temp directory C:\\Users\\User1\\AppData\\Local\\Temp\\wind_temp_analysis.User1.20240225.170800.510357\n",
      "Running step 1 of 1...\n",
      "job output is in C:\\Users\\User1\\AppData\\Local\\Temp\\wind_temp_analysis.User1.20240225.170800.510357\\output\n",
      "Streaming final output from C:\\Users\\User1\\AppData\\Local\\Temp\\wind_temp_analysis.User1.20240225.170800.510357\\output...\n",
      "Removing temp directory C:\\Users\\User1\\AppData\\Local\\Temp\\wind_temp_analysis.User1.20240225.170800.510357...\n"
     ]
    }
   ],
   "source": [
    "!python wind_temp_analysis.py 1901 1902"
   ]
  }
 ],
 "metadata": {
  "kernelspec": {
   "display_name": "env1",
   "language": "python",
   "name": "python3"
  },
  "language_info": {
   "codemirror_mode": {
    "name": "ipython",
    "version": 3
   },
   "file_extension": ".py",
   "mimetype": "text/x-python",
   "name": "python",
   "nbconvert_exporter": "python",
   "pygments_lexer": "ipython3",
   "version": "3.12.2"
  }
 },
 "nbformat": 4,
 "nbformat_minor": 2
}
